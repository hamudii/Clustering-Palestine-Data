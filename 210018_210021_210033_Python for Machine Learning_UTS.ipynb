{
  "nbformat": 4,
  "nbformat_minor": 0,
  "metadata": {
    "colab": {
      "provenance": []
    },
    "kernelspec": {
      "name": "python3",
      "display_name": "Python 3"
    },
    "language_info": {
      "name": "python"
    }
  },
  "cells": [
    {
      "cell_type": "code",
      "execution_count": 80,
      "metadata": {
        "colab": {
          "base_uri": "https://localhost:8080/"
        },
        "id": "FE7_9eTePReq",
        "outputId": "8802c6ed-4d57-4f42-b769-f1ca083a367a"
      },
      "outputs": [
        {
          "output_type": "stream",
          "name": "stdout",
          "text": [
            "<class 'pandas.core.frame.DataFrame'>\n",
            "RangeIndex: 2475 entries, 0 to 2474\n",
            "Data columns (total 12 columns):\n",
            " #   Column               Non-Null Count  Dtype \n",
            "---  ------               --------------  ----- \n",
            " 0   full_text            2475 non-null   object\n",
            " 1   created_at           2475 non-null   object\n",
            " 2   id_str               2475 non-null   int64 \n",
            " 3   quote_count          2475 non-null   int64 \n",
            " 4   reply_count          2475 non-null   int64 \n",
            " 5   retweet_count        2475 non-null   int64 \n",
            " 6   favorite_count       2475 non-null   int64 \n",
            " 7   lang                 2475 non-null   object\n",
            " 8   user_id_str          2475 non-null   int64 \n",
            " 9   conversation_id_str  2475 non-null   int64 \n",
            " 10  username             2475 non-null   object\n",
            " 11  tweet_url            2475 non-null   object\n",
            "dtypes: int64(7), object(5)\n",
            "memory usage: 232.2+ KB\n"
          ]
        }
      ],
      "source": [
        "from google.colab import files\n",
        "\n",
        "# Step 1: Load the data\n",
        "import pandas as pd\n",
        "df = pd.read_csv(\"UTS_PalestineDataset.csv\")\n",
        "\n",
        "df.head()\n",
        "\n",
        "# Step 2: Explore the data\n",
        "df.info()\n",
        "\n",
        "# Step 3: Data preprocessing\n",
        "from sklearn.feature_extraction.text import TfidfVectorizer\n",
        "from sklearn.cluster import KMeans\n",
        "\n",
        "documents = df['full_text'].values.astype(\"U\")\n",
        "\n",
        "vectorizer = TfidfVectorizer(stop_words='english')\n",
        "features = vectorizer.fit_transform(documents)\n",
        "\n",
        "k = 3\n",
        "model = KMeans(n_clusters=k, init='k-means++', max_iter=100, n_init=1)\n",
        "model.fit(features)\n",
        "\n",
        "df['cluster'] = model.labels_\n",
        "\n",
        "df.head()\n",
        "\n",
        "# output the result to a text file.\n",
        "\n",
        "clusters = df.groupby('cluster')\n",
        "\n",
        "for cluster in clusters.groups:\n",
        "    f = open('cluster'+str(cluster)+ '.csv', 'w') # create csv file\n",
        "    data = clusters.get_group(cluster)[['username','full_text','created_at','tweet_url']] #\n",
        "    f.write(data.to_csv(index_label='id')) # set index to id\n",
        "    f.close()"
      ]
    },
    {
      "cell_type": "code",
      "source": [
        "print(\"\\nSummary\")\n",
        "df['cluster'].describe()"
      ],
      "metadata": {
        "colab": {
          "base_uri": "https://localhost:8080/"
        },
        "id": "wAb18LaY_dbF",
        "outputId": "302aa278-a9f3-43c0-c7d3-731dddc74368"
      },
      "execution_count": 81,
      "outputs": [
        {
          "output_type": "stream",
          "name": "stdout",
          "text": [
            "\n",
            "Summary\n"
          ]
        },
        {
          "output_type": "execute_result",
          "data": {
            "text/plain": [
              "count    2475.000000\n",
              "mean        0.670303\n",
              "std         0.909166\n",
              "min         0.000000\n",
              "25%         0.000000\n",
              "50%         0.000000\n",
              "75%         2.000000\n",
              "max         2.000000\n",
              "Name: cluster, dtype: float64"
            ]
          },
          "metadata": {},
          "execution_count": 81
        }
      ]
    },
    {
      "cell_type": "code",
      "source": [
        "print(\"\\nJumlah data permasing masing cluster : \")\n",
        "df['cluster'].value_counts()"
      ],
      "metadata": {
        "colab": {
          "base_uri": "https://localhost:8080/"
        },
        "id": "Lsfke_AC75vt",
        "outputId": "24cd8d5a-b723-44ed-81d4-dc422c17c1c6"
      },
      "execution_count": 82,
      "outputs": [
        {
          "output_type": "stream",
          "name": "stdout",
          "text": [
            "\n",
            "Jumlah data permasing masing cluster : \n"
          ]
        },
        {
          "output_type": "execute_result",
          "data": {
            "text/plain": [
              "0    1565\n",
              "2     749\n",
              "1     161\n",
              "Name: cluster, dtype: int64"
            ]
          },
          "metadata": {},
          "execution_count": 82
        }
      ]
    },
    {
      "cell_type": "code",
      "source": [
        "print(\"\\nPersebaran 20 data pertama : \")\n",
        "df['cluster'].head(20)"
      ],
      "metadata": {
        "colab": {
          "base_uri": "https://localhost:8080/"
        },
        "id": "XQWaY-Il_ajo",
        "outputId": "3fe9dc94-6d98-422e-ba6e-5eaaf083b8bf"
      },
      "execution_count": 83,
      "outputs": [
        {
          "output_type": "stream",
          "name": "stdout",
          "text": [
            "\n",
            "Persebaran 20 data pertama : \n"
          ]
        },
        {
          "output_type": "execute_result",
          "data": {
            "text/plain": [
              "0     2\n",
              "1     1\n",
              "2     0\n",
              "3     0\n",
              "4     2\n",
              "5     0\n",
              "6     0\n",
              "7     2\n",
              "8     0\n",
              "9     1\n",
              "10    0\n",
              "11    0\n",
              "12    0\n",
              "13    2\n",
              "14    2\n",
              "15    0\n",
              "16    0\n",
              "17    0\n",
              "18    0\n",
              "19    0\n",
              "Name: cluster, dtype: int32"
            ]
          },
          "metadata": {},
          "execution_count": 83
        }
      ]
    },
    {
      "cell_type": "code",
      "source": [
        "print(\"Contoh data permasing masing cluster\")\n",
        "for i in range(k):\n",
        "  sub_cluster = df[df['cluster'] == i]\n",
        "  print(\"\\n\\nCluster\", i,\":\\n\",sub_cluster['full_text'].head())"
      ],
      "metadata": {
        "colab": {
          "base_uri": "https://localhost:8080/"
        },
        "id": "jFzXrykW_g0I",
        "outputId": "870fe3a5-ae34-4c23-9939-baeb81e31355"
      },
      "execution_count": 84,
      "outputs": [
        {
          "output_type": "stream",
          "name": "stdout",
          "text": [
            "Contoh data permasing masing cluster\n",
            "\n",
            "\n",
            "Cluster 0 :\n",
            " 2    Now I know why hitla cleaned y’all out free Pa...\n",
            "3    @Adii__here @goddeketal Their going to flatten...\n",
            "5    @RepDonaldsPress You’re deep state. don’t pret...\n",
            "6               @jacksonhinklle Palestine should burn!\n",
            "8    @MrAndyNgo Maybe we ship them all off to Pales...\n",
            "Name: full_text, dtype: object\n",
            "\n",
            "\n",
            "Cluster 1 :\n",
            " 1                                @Forbes Free palestine\n",
            "9     From the river to the sea. Palestine will be f...\n",
            "29      @fakhrifadzli Palestine will be free !!! 🇵🇸🇵🇸🇵🇸\n",
            "51                       @LauraLoomer FREE PALESTINE 🇵🇸\n",
            "86             @MyLordBebo Free Palestine.... Free Gaza\n",
            "Name: full_text, dtype: object\n",
            "\n",
            "\n",
            "Cluster 2 :\n",
            " 0     I can't see a war between two countries. Israe...\n",
            "4     @DrLoupis You seemed fine when it was just pal...\n",
            "7     How it feels retweeting your nugu fav's comeba...\n",
            "13    I'm still waiting for the DA leader. John Stee...\n",
            "14    @jjhawktree @Rfc1872I @Sirloum @SkyNews You gu...\n",
            "Name: full_text, dtype: object\n"
          ]
        }
      ]
    },
    {
      "cell_type": "code",
      "source": [
        "cluster_sizes = df['cluster'].value_counts()\n",
        "plt.bar(cluster_sizes.index, cluster_sizes.values)\n",
        "plt.xlabel('Cluster')\n",
        "plt.ylabel('Number of Tweets')\n",
        "plt.show()"
      ],
      "metadata": {
        "colab": {
          "base_uri": "https://localhost:8080/",
          "height": 449
        },
        "id": "xat_4uol_0aa",
        "outputId": "0e24ff62-c081-4673-b705-0d47e61583b8"
      },
      "execution_count": 85,
      "outputs": [
        {
          "output_type": "display_data",
          "data": {
            "text/plain": [
              "<Figure size 640x480 with 1 Axes>"
            ],
            "image/png": "[encoded data removed]"
          },
          "metadata": {}
        }
      ]
    }
  ]
}